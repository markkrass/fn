{
 "metadata": {
  "name": ""
 },
 "nbformat": 3,
 "nbformat_minor": 0,
 "worksheets": [
  {
   "cells": [
    {
     "cell_type": "markdown",
     "metadata": {},
     "source": [
      "# Scraping AANDC data about Ontario indigenous communities\n",
      "## Mark Krass, August 2014\n",
      "\n",
      "The goals of this notebook are as follows:\n",
      "\n",
      "* Obtain a complete list of Ontario indigenous communities, by Band #, from firstnation.ca\n",
      "* For each community, obtain affiliational and treaty data from the same website\n",
      "* Then, for each community:\n",
      "    * Access the community webpage at AANDC (e.g., http://goo.gl/jsrXSf)\n",
      "    * Scrape all available census data\n",
      "    * Scrape postal code, community website\n",
      "    * Scrape governance data\n",
      "    * Scrape population statistics\n",
      "* Output a table containing this information for future use"
     ]
    },
    {
     "cell_type": "code",
     "collapsed": false,
     "input": [
      "## Preliminaries\n",
      "import pandas as pd\n",
      "import urllib2\n",
      "from bs4 import BeautifulSoup\n",
      "from bs4 import SoupStrainer\n",
      "import re\n",
      "import numpy as np"
     ],
     "language": "python",
     "metadata": {},
     "outputs": [],
     "prompt_number": 62
    },
    {
     "cell_type": "code",
     "collapsed": false,
     "input": [
      "## Write a function to obtain the band numbers for every band in Ontario\n",
      "\n",
      "def get_band_numbers():\n",
      "    \"\"\"\n",
      "    This function fetches a table from \n",
      "    firstnation.ca containing every band \n",
      "    in Ontario, their band number,\n",
      "    their tribal and council affiliations, \n",
      "    and the treaty under which they are \n",
      "    governed\n",
      "    \n",
      "    params\n",
      "    ----------\n",
      "    @none\n",
      "    \n",
      "    returns\n",
      "    ----------\n",
      "    A Pandas dataframe with the \n",
      "    following columns:\n",
      "       name: Band name\n",
      "       number: Band number\n",
      "       council: Tribal council\n",
      "       tribal_org: Primary Tribal Organization\n",
      "       treaty: Last treaty signed with the Crown\n",
      "    \n",
      "    \"\"\"\n",
      "    \n",
      "    # Obtain the html source\n",
      "    url = 'http://firstnation.ca' # write the url here\n",
      "    page = urllib2.urlopen(url)\n",
      "    data = page.read()\n",
      "    page.close()\n",
      "    \n",
      "    # Parse the html source using BeautifulSoup\n",
      "    \n",
      "    soup = BeautifulSoup(data, \"html5lib\")\n",
      "    \n",
      "    # Create the empty data structure to be filled\n",
      "    \n",
      "    out = {'NumberDict':{}, 'NameDict':{}, 'CouncilsDict':{}, 'PTODict':{}, 'TreatyDict':{}}\n",
      "    \n",
      "    # Extract information for each band\n",
      "    tag = soup.tbody\n",
      "    for child in tag.children:\n",
      "        if 'bs4.element.Tag' in str(type(child)): \n",
      "            if child.a:\n",
      "                \n",
      "                # Band Number\n",
      "                NUMtext = child.find_all(\"td\", class_=\"views-field views-field-field-fn-bandnumber-value\")\n",
      "                band_number = re.search(r'\\n.*<', str(NUMtext[0])).group()[:-1].strip()\n",
      "                out['NumberDict'][band_number] = band_number\n",
      "                \n",
      "                # Name of Band\n",
      "                name = child.a.get_text()\n",
      "                out['NameDict'][band_number] = name\n",
      "                \n",
      "                # Tribe Council\n",
      "                \n",
      "                TCtext = child.find_all(\"td\", class_=\"views-field views-field-field-fn-tribalcouncil-value\")\n",
      "                tribal_council = re.search(r'\\n.*<', str(TCtext[0])).group()[:-1].strip()\n",
      "                out['CouncilsDict'][band_number] = tribal_council\n",
      "                \n",
      "                # Primary Tribal Organization\n",
      "                \n",
      "                PTOtext = child.find_all(\"td\", class_=\"views-field views-field-field-fn-pto-value\")\n",
      "                tribal_org = re.search(r'\\n.*<', str(PTOtext[0])).group()[:-1].strip()\n",
      "                out['PTODict'][band_number] = tribal_org\n",
      "                \n",
      "                # Treaty Name\n",
      "                \n",
      "                TREATYtext = child.find_all(\"td\", class_=\"views-field views-field-field-fn-treaty-value\")\n",
      "                treaty_num = re.search(r'\\n.*<', str(TREATYtext[0])).group()[:-1].strip()\n",
      "                out['TreatyDict'][band_number] = treaty_num\n",
      "            \n",
      "    t = pd.DataFrame(out)\n",
      "    t= t.ix[:, ['NameDict', 'NumberDict', 'CouncilsDict', 'PTODict', 'TreatyDict']]\n",
      "    t.columns = ['name', 'number', 'council', 'tribal_org', 'treaty']\n",
      "    return t\n",
      "    \n",
      "    "
     ],
     "language": "python",
     "metadata": {},
     "outputs": [],
     "prompt_number": 63
    },
    {
     "cell_type": "code",
     "collapsed": false,
     "input": [
      "out = get_band_numbers() \n",
      "out.head(n=10)"
     ],
     "language": "python",
     "metadata": {},
     "outputs": [
      {
       "html": [
        "<div style=\"max-height:1000px;max-width:1500px;overflow:auto;\">\n",
        "<table border=\"1\" class=\"dataframe\">\n",
        "  <thead>\n",
        "    <tr style=\"text-align: right;\">\n",
        "      <th></th>\n",
        "      <th>name</th>\n",
        "      <th>number</th>\n",
        "      <th>council</th>\n",
        "      <th>tribal_org</th>\n",
        "      <th>treaty</th>\n",
        "    </tr>\n",
        "  </thead>\n",
        "  <tbody>\n",
        "    <tr>\n",
        "      <th></th>\n",
        "      <td>                          Whitewater Lake</td>\n",
        "      <td>    </td>\n",
        "      <td>                     Windigo First Nations Council</td>\n",
        "      <td>                      Nishnawbe-Aski Nation</td>\n",
        "      <td>                     Treaty 9</td>\n",
        "    </tr>\n",
        "    <tr>\n",
        "      <th>120</th>\n",
        "      <td>                New Credit (Mississaugas)</td>\n",
        "      <td> 120</td>\n",
        "      <td>                                      Unaffiliated</td>\n",
        "      <td> Association of Iroquois and Allied Indians</td>\n",
        "      <td> Upper Canada Treaties Area 2</td>\n",
        "    </tr>\n",
        "    <tr>\n",
        "      <th>121</th>\n",
        "      <td>                              Six Nations</td>\n",
        "      <td> 121</td>\n",
        "      <td>                                      Unaffiliated</td>\n",
        "      <td>                                Independent</td>\n",
        "      <td> Upper Canada Treaties Area 2</td>\n",
        "    </tr>\n",
        "    <tr>\n",
        "      <th>122</th>\n",
        "      <td>                                   Nawash</td>\n",
        "      <td> 122</td>\n",
        "      <td>                                      Unaffiliated</td>\n",
        "      <td>                                Independent</td>\n",
        "      <td> Upper Canada Treaties Area 2</td>\n",
        "    </tr>\n",
        "    <tr>\n",
        "      <th>123</th>\n",
        "      <td>    Saugeen Nation (Chippewas of Saugeen)</td>\n",
        "      <td> 123</td>\n",
        "      <td>                                      Unaffiliated</td>\n",
        "      <td>                                Independent</td>\n",
        "      <td> Upper Canada Treaties Area 2</td>\n",
        "    </tr>\n",
        "    <tr>\n",
        "      <th>124</th>\n",
        "      <td>                               Big Grassy</td>\n",
        "      <td> 124</td>\n",
        "      <td> Anishinaabeg of Kabapikotawangag Resource Council</td>\n",
        "      <td>                  Grand Council of Treaty 3</td>\n",
        "      <td>                     Treaty 3</td>\n",
        "    </tr>\n",
        "    <tr>\n",
        "      <th>125</th>\n",
        "      <td> Big Island (Anishnaabeg of Naongashiing)</td>\n",
        "      <td> 125</td>\n",
        "      <td> Anishinaabeg of Kabapikotawangag Resource Council</td>\n",
        "      <td>                  Grand Council of Treaty 3</td>\n",
        "      <td>                     Treaty 3</td>\n",
        "    </tr>\n",
        "    <tr>\n",
        "      <th>126</th>\n",
        "      <td>               Couchiching (Fort Frances)</td>\n",
        "      <td> 126</td>\n",
        "      <td>    Pwi-Di-Goo-Zing-Ne-Yaa-Zhing Advisory Services</td>\n",
        "      <td>                  Grand Council of Treaty 3</td>\n",
        "      <td>                     Treaty 3</td>\n",
        "    </tr>\n",
        "    <tr>\n",
        "      <th>127</th>\n",
        "      <td>                             Lac La Croix</td>\n",
        "      <td> 127</td>\n",
        "      <td>    Pwi-Di-Goo-Zing-Ne-Yaa-Zhing Advisory Services</td>\n",
        "      <td>                  Grand Council of Treaty 3</td>\n",
        "      <td>                     Treaty 3</td>\n",
        "    </tr>\n",
        "    <tr>\n",
        "      <th>128</th>\n",
        "      <td>                           Naicatchewenin</td>\n",
        "      <td> 128</td>\n",
        "      <td>    Pwi-Di-Goo-Zing-Ne-Yaa-Zhing Advisory Services</td>\n",
        "      <td>                  Grand Council of Treaty 3</td>\n",
        "      <td>                     Treaty 3</td>\n",
        "    </tr>\n",
        "  </tbody>\n",
        "</table>\n",
        "</div>"
       ],
       "metadata": {},
       "output_type": "pyout",
       "prompt_number": 64,
       "text": [
        "                                         name number  \\\n",
        "                              Whitewater Lake          \n",
        "120                 New Credit (Mississaugas)    120   \n",
        "121                               Six Nations    121   \n",
        "122                                    Nawash    122   \n",
        "123     Saugeen Nation (Chippewas of Saugeen)    123   \n",
        "124                                Big Grassy    124   \n",
        "125  Big Island (Anishnaabeg of Naongashiing)    125   \n",
        "126                Couchiching (Fort Frances)    126   \n",
        "127                              Lac La Croix    127   \n",
        "128                            Naicatchewenin    128   \n",
        "\n",
        "                                               council  \\\n",
        "                         Windigo First Nations Council   \n",
        "120                                       Unaffiliated   \n",
        "121                                       Unaffiliated   \n",
        "122                                       Unaffiliated   \n",
        "123                                       Unaffiliated   \n",
        "124  Anishinaabeg of Kabapikotawangag Resource Council   \n",
        "125  Anishinaabeg of Kabapikotawangag Resource Council   \n",
        "126     Pwi-Di-Goo-Zing-Ne-Yaa-Zhing Advisory Services   \n",
        "127     Pwi-Di-Goo-Zing-Ne-Yaa-Zhing Advisory Services   \n",
        "128     Pwi-Di-Goo-Zing-Ne-Yaa-Zhing Advisory Services   \n",
        "\n",
        "                                     tribal_org                        treaty  \n",
        "                          Nishnawbe-Aski Nation                      Treaty 9  \n",
        "120  Association of Iroquois and Allied Indians  Upper Canada Treaties Area 2  \n",
        "121                                 Independent  Upper Canada Treaties Area 2  \n",
        "122                                 Independent  Upper Canada Treaties Area 2  \n",
        "123                                 Independent  Upper Canada Treaties Area 2  \n",
        "124                   Grand Council of Treaty 3                      Treaty 3  \n",
        "125                   Grand Council of Treaty 3                      Treaty 3  \n",
        "126                   Grand Council of Treaty 3                      Treaty 3  \n",
        "127                   Grand Council of Treaty 3                      Treaty 3  \n",
        "128                   Grand Council of Treaty 3                      Treaty 3  "
       ]
      }
     ],
     "prompt_number": 64
    },
    {
     "cell_type": "code",
     "collapsed": false,
     "input": [
      "## GIVEN an AANDC band number, extract address, postal code and a community site\n",
      "## from the AANDC website\n",
      "\n",
      "def get_places(number):\n",
      "    \"\"\"\n",
      "    Given an AANDC band number,\n",
      "    obtain the band's postal code\n",
      "    and the url of the \n",
      "    community website\n",
      "    \n",
      "    params\n",
      "    ----------\n",
      "    number: A two or three-digit AANDC band number\n",
      "    \n",
      "    returns\n",
      "    ----------\n",
      "    out: A dictionary with the following elements:\n",
      "        url: The community's url, if found\n",
      "        postcode: The community's postal code, if found\n",
      "        street_address: The community's address, if found\n",
      "        phone: The community's phone, if found\n",
      "    \"\"\"\n",
      "    # Obtain the page\n",
      "    num = str(number)\n",
      "    url = 'http://pse5-esd5.ainc-inac.gc.ca/fnp/Main/Search/FNMain.aspx?BAND_NUMBER=%s&lang=eng' %num\n",
      "    page = urllib2.urlopen(url)\n",
      "    data = page.read()\n",
      "    page.close()\n",
      "    \n",
      "    # Parse the html source using BeautifulSoup\n",
      "    \n",
      "    soup = BeautifulSoup(data)\n",
      "    \n",
      "    # Create the empty data structure to be filled\n",
      "    \n",
      "    out = {'number':{}, 'url':{}, 'postcode':{}, 'street_address':{}, 'town':{},'province':{}, 'phone':{}}\n",
      "    out['number'][num] = num\n",
      "    \n",
      "    # Get address\n",
      "    \n",
      "    address_text = soup.find_all(id=\"ctl00_txtAddress\")\n",
      "    address = re.search(r'>.*<', str(address_text)).group()[1:-1] # Remove crap\n",
      "    c =  re.search(r'\\w', address)\n",
      "    if c:\n",
      "        print address\n",
      "        strad, town, prov = address.split(',')[-3:]\n",
      "\n",
      "    if not c:\n",
      "        strad, town, prov = np.NaN, np.NaN, np.NaN\n",
      "    out['street_address'][num] = strad\n",
      "    out['town'][num] = town\n",
      "    out['province'][num] = prov\n",
      "    \n",
      "    # Get phone\n",
      "    \n",
      "    phone_text = soup.find_all(id=\"ctl00_txtPhone\")\n",
      "    phone = re.search(r'>.*<', str(phone_text)).group()[1:-1] # Remove crap\n",
      "    out['phone'][num] = phone\n",
      "    \n",
      "    # Get url\n",
      "    curl = False\n",
      "    for link in soup.find_all('a', id=\"ctl00_anchor1\"):\n",
      "        curl = (link.get('href'))\n",
      "    if curl:\n",
      "        out['url'][num] = curl\n",
      "    if not curl: \n",
      "        out['url'][num] = np.NaN\n",
      "    \n",
      "        \n",
      "    # Get postal code\n",
      "    a = 0\n",
      "    pc_text = soup.find_all(id=\"ctl00_txtPostalCode\")\n",
      "    postal_code = re.search(r'>.*<', str(pc_text)).group()[1:-1] # Remove crap\n",
      "    for char in postal_code:\n",
      "        if char == ' ' : \n",
      "            a += 1\n",
      "    out['postcode'][num] = postal_code\n",
      "    if a == len(postal_code):\n",
      "        out['postcode'][num] = np.NaN\n",
      "    \n",
      "    \n",
      "    return out"
     ],
     "language": "python",
     "metadata": {},
     "outputs": [],
     "prompt_number": 82
    },
    {
     "cell_type": "code",
     "collapsed": false,
     "input": [
      "get_places(211)"
     ],
     "language": "python",
     "metadata": {},
     "outputs": [
      {
       "metadata": {},
       "output_type": "pyout",
       "prompt_number": 66,
       "text": [
        "{'number': {'211': '211'},\n",
        " 'phone': {'211': '(807) 774-3421'},\n",
        " 'postcode': {'211': 'P0V 1V0'},\n",
        " 'province': {'211': ' ON'},\n",
        " 'street_address': {'211': 'PO BOX 12'},\n",
        " 'town': {'211': ' SANDY LAKE'},\n",
        " 'url': {'211': 'http://www.sandylake.firstnation.ca/'}}"
       ]
      }
     ],
     "prompt_number": 66
    },
    {
     "cell_type": "code",
     "collapsed": false,
     "input": [
      "# Playing around\n",
      "a = {'r':'2', 'v':'4'}\n",
      "b = {'f':'1', 'g':'9'}\n",
      "c = dict(a, **b)\n",
      "\n",
      "print c"
     ],
     "language": "python",
     "metadata": {},
     "outputs": [
      {
       "output_type": "stream",
       "stream": "stdout",
       "text": [
        "{'r': '2', 'f': '1', 'g': '9', 'v': '4'}\n"
       ]
      }
     ],
     "prompt_number": 67
    },
    {
     "cell_type": "code",
     "collapsed": false,
     "input": [
      "## GIVEN an AANDC band number, extract governance information\n",
      "\n",
      "def get_gov_info(number):\n",
      "    \"\"\"\n",
      "    Given an AANDC band number,\n",
      "    obtain the band's governance\n",
      "    information.\n",
      "    \n",
      "    params\n",
      "    ----------\n",
      "    number: A two or three-digit AANDC band number\n",
      "    \n",
      "    returns\n",
      "    ----------\n",
      "    out: A dictionary with the following elements:\n",
      "        chief_first: First name of the band's chief\n",
      "        chief_last: Last name of the band's chief\n",
      "        electoral_system: Description of the electoral system\n",
      "        next_election: The date of the next band election\n",
      "    \"\"\"\n",
      "    # Obtain the page\n",
      "    num = str(number)\n",
      "    url = 'http://pse5-esd5.ainc-inac.gc.ca/fnp/Main/Search/FNGovernance.aspx?BAND_NUMBER=%s&lang=eng' %num\n",
      "    page = urllib2.urlopen(url)\n",
      "    data = page.read()\n",
      "    page.close()\n",
      "    \n",
      "    # Parse the html source using BeautifulSoup\n",
      "    \n",
      "    soup = BeautifulSoup(data)\n",
      "    \n",
      "    # Create the empty data structure to be filled\n",
      "    \n",
      "    out = {'number':{}, 'chief_first':{}, 'chief_last':{}, 'electoral_system':{}, 'next_election':{}}\n",
      "    out['number'][num] = num\n",
      "    \n",
      "    # Get electoral system\n",
      "    \n",
      "    elecsystext = soup.find_all(id=\"ctl00_txtElection\")\n",
      "    electoral = re.search(r'>.*<', str(elecsystext)).group()[1:-1] # Remove crap\n",
      "    out['electoral_system'][num] = electoral\n",
      "    if len(out['electoral_system'][num]) == 0:\n",
      "        out['electoral_system'][num] = np.NaN\n",
      "    \n",
      "    # Get Chief's name\n",
      "    \n",
      "    chiefsearch = re.search(r'<td>Chief</td>.*</td><td>.*?</td>', data)\n",
      "    if chiefsearch:\n",
      "        chieftext = chiefsearch.group()[4:-5]\n",
      "        names = re.findall(r'>\\w+', str(chieftext))\n",
      "        lastname = names[0][1:]\n",
      "        firstname = names[1][1:]\n",
      "        out['chief_first'][num] = firstname\n",
      "        out['chief_last'][num] = lastname \n",
      "    else:\n",
      "        out['chief_first'][num] = np.NaN\n",
      "        out['chief_last'][num] = np.NaN  \n",
      "    \n",
      "    # Get next election date\n",
      "    \n",
      "    datesearch = re.search(r'<td>Chief</td>.*</td><td>.*</td>', data)\n",
      "    if datesearch:\n",
      "        datetext = datesearch.group()\n",
      "        soup2 = BeautifulSoup(datetext)\n",
      "        x = soup2.find_all(\"td\")\n",
      "        out['next_election'][num] = x[4].get_text()\n",
      "    else:\n",
      "        out['next_election'][num] = np.NaN\n",
      "    \n",
      "    return out"
     ],
     "language": "python",
     "metadata": {},
     "outputs": [],
     "prompt_number": 68
    },
    {
     "cell_type": "code",
     "collapsed": false,
     "input": [
      "get_gov_info(246)"
     ],
     "language": "python",
     "metadata": {},
     "outputs": [
      {
       "metadata": {},
       "output_type": "pyout",
       "prompt_number": 69,
       "text": [
        "{'chief_first': {'246': nan},\n",
        " 'chief_last': {'246': nan},\n",
        " 'electoral_system': {'246': nan},\n",
        " 'next_election': {'246': nan},\n",
        " 'number': {'246': '246'}}"
       ]
      }
     ],
     "prompt_number": 69
    },
    {
     "cell_type": "code",
     "collapsed": false,
     "input": [
      "## GIVEN an AANDC band number, extract population data. \n",
      "## Be sure to account for variations in data storage types.\n",
      "\n",
      "def get_pop_data(number):\n",
      "    \"\"\"\n",
      "    Given an AANDC band number,\n",
      "    obtain population information.\n",
      "    \n",
      "    params\n",
      "    ----------\n",
      "    number: A two or three-digit AANDC band number\n",
      "    \n",
      "    returns\n",
      "    ----------\n",
      "    out: A dictionary with the following elements:\n",
      "        total_pop: Total band population (number)\n",
      "        on_res_pop: Band population on reserve\n",
      "    \"\"\"\n",
      "    # Obtain the page\n",
      "    num = str(number)\n",
      "    url = 'http://pse5-esd5.ainc-inac.gc.ca/fnp/Main/Search/FNRegPopulation.aspx?BAND_NUMBER=%s&lang=eng' %num\n",
      "    page = urllib2.urlopen(url)\n",
      "    data = page.read()\n",
      "    page.close()\n",
      "    \n",
      "    # Parse the html source using BeautifulSoup\n",
      "    \n",
      "    soup = BeautifulSoup(data)\n",
      "    \n",
      "    # Create the empty data structure to be filled\n",
      "    \n",
      "    out = {'number':{}, 'total_pop':{}, 'on_reserve_pop':{}}\n",
      "    out['number'][num] = num\n",
      "    \n",
      "    # Get total population\n",
      "    \n",
      "    poptext = soup.find_all(id=\"ctl00_txtTotalPopulation\")\n",
      "    totalpop = re.search(r'>.*<', str(poptext)).group()[1:-1] # Remove crap\n",
      "    out['total_pop'][num] = float(re.sub(',', '', totalpop))\n",
      "    \n",
      "    # Get on-reserve population\n",
      "    \n",
      "    off_reserve_male_text = soup.find_all(id=\"ctl00_txtMalesOffReserve\")\n",
      "    maleORpop = re.search(r'>.*<', str(off_reserve_male_text)).group()[1:-1] # Remove crap\n",
      "    maleORpop = float(re.sub(',', '', maleORpop))\n",
      "    \n",
      "    off_reserve_female_text = soup.find_all(id=\"ctl00_txtFemalesOffReserve\")\n",
      "    femaleORpop = re.search(r'>.*<', str(off_reserve_female_text)).group()[1:-1] # Remove crap\n",
      "    femaleORpop = float(re.sub(',', '', femaleORpop))\n",
      "    \n",
      "    out['on_reserve_pop'][num] = out['total_pop'][num] - maleORpop - femaleORpop\n",
      "    \n",
      "    return out\n",
      "    "
     ],
     "language": "python",
     "metadata": {},
     "outputs": [],
     "prompt_number": 70
    },
    {
     "cell_type": "code",
     "collapsed": false,
     "input": [
      "get_pop_data(200)"
     ],
     "language": "python",
     "metadata": {},
     "outputs": [
      {
       "metadata": {},
       "output_type": "pyout",
       "prompt_number": 71,
       "text": [
        "{'number': {'200': '200'},\n",
        " 'on_reserve_pop': {'200': 395.0},\n",
        " 'total_pop': {'200': 1264.0}}"
       ]
      }
     ],
     "prompt_number": 71
    },
    {
     "cell_type": "code",
     "collapsed": false,
     "input": [
      "def get_one_stat(soup, id_text):\n",
      "    \"\"\"\n",
      "    Utility function. Given a \n",
      "    BeautifulSoup object and an id \n",
      "    for a particular kind of stat,\n",
      "    return the stat or np.Nan\n",
      "    \"\"\"\n",
      "    souptext = soup.find_all(id=id_text)\n",
      "    stat = re.search(r'>.*<', str(souptext)).group()[1:-1] # Remove crap\n",
      "    if stat == \"Not available\":\n",
      "        stat = np.NaN\n",
      "    else: \n",
      "        stat = float(re.sub(',', '', stat))\n",
      "    return stat"
     ],
     "language": "python",
     "metadata": {},
     "outputs": [],
     "prompt_number": 72
    },
    {
     "cell_type": "code",
     "collapsed": false,
     "input": [
      "## GIVEN an AANDC band number AND a list of census statistics, extract\n",
      "## the statistics we want into a table\n",
      "\n",
      "def get_census_data(number):\n",
      "    \"\"\"\n",
      "    Given an AANDC band number,\n",
      "    return a dictionary with\n",
      "    census information on the \n",
      "    band's population.\n",
      "    \n",
      "    params\n",
      "    -----------\n",
      "    number: a 2- or 3-digit AANDC number\n",
      "    \n",
      "    returns\n",
      "    -----------\n",
      "    out: a dictionary with the following elements:\n",
      "        pct_young: % of residents whose age \n",
      "                    is between 0 and 19\n",
      "        pct_old: % of residents whose age \n",
      "                    is above 65\n",
      "        hsdip_15plus: % of residents aged 15 and \n",
      "                    above who hold a high school diploma or more\n",
      "        non_movers: % who lived at same address 1 yr ago\n",
      "        FNlang_home: % who speak a FN language at home\n",
      "        FNlang_know: % who have any knowledge of a \n",
      "                    FN language\n",
      "        FNlang_first: % whose first language is an FN lang\n",
      "        avgincome: Average income, in dollars\n",
      "        pct_gov_trans: % of average income from government\n",
      "                        transfers\n",
      "        median_hh_income: Median household income\n",
      "        pct_lone_parents: % lone parent homes\n",
      "        lfpartic: % participation in the labour force\n",
      "        employment: employment rate\n",
      "        unemployment: unemployment rate\n",
      "     \n",
      "     Notes:\n",
      "       * All data is from 2006 census\n",
      "       * Where data is unavailable the entry will be defined as np.NaN\n",
      "       \n",
      "    \"\"\"\n",
      "    ## Setup empty data structure\n",
      "    num = str(number)\n",
      "    out = {'pct_young':{}, 'pct_old':{}, 'hsdip_15plus':{}, 'non_movers':{}, 'FNlang_home':{},\n",
      "           'FNlang_know':{}, 'FNlang_first':{}, 'avgincome':{}, 'pct_gov_trans':{},\n",
      "           'median_hh_income':{}, 'pct_lone_parents':{}, 'lfpartic':{},\n",
      "           'employment':{}, 'unemployment':{}}\n",
      "    \n",
      "    #########  Population statistics  ######### \n",
      "    url = 'http://pse5-esd5.ainc-inac.gc.ca/fnp/Main/Search/FNPopulation.aspx?BAND_NUMBER=%s&lang=eng' %num\n",
      "    page = urllib2.urlopen(url)\n",
      "    data = page.read()\n",
      "    page.close()\n",
      "    \n",
      "    # Obtain the number of young people\n",
      "    popsoup = BeautifulSoup(data)\n",
      "    young = get_one_stat(popsoup, \"ctl00_txtTotalAllAge19Year2\")\n",
      "    \n",
      "    # Number of old people\n",
      "    old = get_one_stat(popsoup, \"ctl00_txtTotalAllAge65Year2\")\n",
      "    \n",
      "    # Total number of respondents\n",
      "    total = get_one_stat(popsoup, \"ctl00_txtTotalAllAgeYear2\")\n",
      "    \n",
      "    \n",
      "    # Stick back in the DB\n",
      "    out['pct_young'][num] = young / total\n",
      "    out['pct_old'][num] = old / total\n",
      "\n",
      "    ######### Education statistics  ######### \n",
      "    url = 'http://pse5-esd5.ainc-inac.gc.ca/fnp/Main/Search/FNEducation.aspx?BAND_NUMBER=%s&lang=eng' %num\n",
      "    page = urllib2.urlopen(url)\n",
      "    data = page.read()\n",
      "    page.close()\n",
      "    \n",
      "    edsoup = BeautifulSoup(data)\n",
      "    \n",
      "    # Total respondents\n",
      "    total = get_one_stat(edsoup, \"ctl00_txtPopOver15TotalYear2\")\n",
      "    \n",
      "    # Everyone with no diploma\n",
      "    nodip = get_one_stat(edsoup, \"ctl00_txtNonHighschoolTotalYear2\")\n",
      "    \n",
      "    # Stick in db\n",
      "    out['hsdip_15plus'][num] = 1-nodip/total\n",
      "    \n",
      "    ######### Movement statistics  ######### \n",
      "    \n",
      "    url = 'http://pse5-esd5.ainc-inac.gc.ca/fnp/Main/Search/FNMobility.aspx?BAND_NUMBER=%s&lang=eng' %num\n",
      "    page = urllib2.urlopen(url)\n",
      "    data = page.read()\n",
      "    page.close()\n",
      "    \n",
      "    movesoup = BeautifulSoup(data)\n",
      "    \n",
      "    # Total respondents\n",
      "    total = get_one_stat(movesoup, \"ctl00_txtPopulationYear2\")\n",
      "\n",
      "    # Everyone who did not move in the past year\n",
      "    move = get_one_stat(movesoup, \"ctl00_txtNonMoversYear2\")\n",
      "    \n",
      "    # Stick in db\n",
      "    out['non_movers'][num] = move/total\n",
      "    \n",
      "    ######### Workforce statistics  ######### \n",
      "    \n",
      "    url = 'http://pse5-esd5.ainc-inac.gc.ca/fnp/Main/Search/FNWorkforce.aspx?BAND_NUMBER=%s&lang=eng' %num\n",
      "    page = urllib2.urlopen(url)\n",
      "    data = page.read()\n",
      "    page.close()\n",
      "    \n",
      "    worksoup = BeautifulSoup(data)\n",
      "    \n",
      "    # LF Participation\n",
      "    lf = get_one_stat(worksoup, \"ctl00_txtParticipationRateYear2\")\n",
      "    out['lfpartic'][num] = lf/100\n",
      "    \n",
      "    # Employment\n",
      "    empl = get_one_stat(worksoup, \"ctl00_txtEmploymentRateYear2\")\n",
      "    out['employment'][num] = empl/100\n",
      "    \n",
      "    # Unemployment\n",
      "    unempl = get_one_stat(worksoup, \"ctl00_txtUnEmploymentRateYear2\")\n",
      "    out['unemployment'][num] = unempl/100\n",
      "    \n",
      "    ######### Language statistics ######### \n",
      "    \n",
      "    url = 'http://pse5-esd5.ainc-inac.gc.ca/fnp/Main/Search/FNLanguage.aspx?BAND_NUMBER=%s&lang=eng' %num\n",
      "    page = urllib2.urlopen(url)\n",
      "    data = page.read()\n",
      "    page.close()\n",
      "    \n",
      "    langsoup = BeautifulSoup(data)\n",
      "    \n",
      "    # Mother tongue is indigenous lang\n",
      "    mt = get_one_stat(langsoup, \"ctl00_txtLearnedTotalYear2\")\n",
      "    out['FNlang_first'][num] = float(mt)/100\n",
      "    \n",
      "    # Home lang is indigenous lang\n",
      "    hl = get_one_stat(langsoup, \"ctl00_txtSpokenTotalYear2\")\n",
      "    out['FNlang_home'][num] = float(hl)/100\n",
      "    \n",
      "    # Knows some indigenous lang\n",
      "    kn = get_one_stat(langsoup, \"ctl00_txtKnowledgeTotalYear2\")\n",
      "    out['FNlang_know'][num] = float(kn)/100\n",
      "    \n",
      "    ######### Income statistics ######### \n",
      "    \n",
      "    url = 'http://pse5-esd5.ainc-inac.gc.ca/fnp/Main/Search/FNIncome.aspx?BAND_NUMBER=%s&lang=eng' %num\n",
      "    page = urllib2.urlopen(url)\n",
      "    data = page.read()\n",
      "    page.close()\n",
      "    \n",
      "    incsoup = BeautifulSoup(data)\n",
      "    \n",
      "    # Average income\n",
      "    out['avgincome'][num] = get_one_stat(incsoup, \"ctl00_txtAvgIncomeTotalYear2\")\n",
      "    \n",
      "    # Govt transfer - % of income\n",
      "    gtinc = get_one_stat(incsoup, \"ctl00_txtGovtTransferTotalYear2\")\n",
      "    out['pct_gov_trans'][num] = gtinc/100\n",
      "    \n",
      "    ######### Household statistics ######### \n",
      "    \n",
      "    url = 'http://pse5-esd5.ainc-inac.gc.ca/fnp/Main/Search/FNHousehold.aspx?BAND_NUMBER=%s&lang=eng' %num\n",
      "    page = urllib2.urlopen(url)\n",
      "    data = page.read()\n",
      "    page.close()\n",
      "    \n",
      "    hhsoup = BeautifulSoup(data)\n",
      "    \n",
      "    # Median hh income\n",
      "    out['median_hh_income'][num] = get_one_stat(hhsoup, \"ctl00_txtMedianIncomeYear2\")\n",
      "    \n",
      "    # Single-parents: male\n",
      "    sp_m = get_one_stat(hhsoup, \"ctl00_txtLoneParentMaleYear2\")\n",
      "    sp_f = get_one_stat(hhsoup, \"ctl00_txtLoneParentFemaleYear2\")\n",
      "    sp_t = get_one_stat(hhsoup, \"ctl00_txtHouseholdTotalYear2\")\n",
      "    \n",
      "    out['pct_lone_parents'][num] = (sp_m+sp_f)/sp_t\n",
      "    \n",
      "    \n",
      "    return out\n",
      "    \n",
      "    \n",
      "    "
     ],
     "language": "python",
     "metadata": {},
     "outputs": [],
     "prompt_number": 73
    },
    {
     "cell_type": "code",
     "collapsed": false,
     "input": [
      "eg = get_census_data(143)"
     ],
     "language": "python",
     "metadata": {},
     "outputs": [],
     "prompt_number": 74
    },
    {
     "cell_type": "code",
     "collapsed": false,
     "input": [
      "## GIVEN an AANDC band number, use all of the above functions to get all the available data\n",
      "## Ensure that each table comes out in the same order and is of the same length. \n",
      "\n",
      "def get_all_stats(number):\n",
      "    out = get_places(number)\n",
      "    out.update(get_gov_info(number))\n",
      "    out.update(get_pop_data(number))\n",
      "    out.update(get_census_data(number))\n",
      "    return out"
     ],
     "language": "python",
     "metadata": {},
     "outputs": [],
     "prompt_number": 75
    },
    {
     "cell_type": "code",
     "collapsed": false,
     "input": [
      "## GIVEN a list of AANDC numbers, call the above function repeatedly to output a data table\n",
      "\n",
      "def make_table(number_list):\n",
      "    out = pd.DataFrame(get_all_stats(number_list[0]))\n",
      "    for i in range(1,len(number_list), 1):\n",
      "        to_add = pd.DataFrame(get_all_stats(number_list[i]))\n",
      "        out = pd.concat([out, to_add])\n",
      "    return out\n",
      "        \n",
      "        "
     ],
     "language": "python",
     "metadata": {},
     "outputs": [],
     "prompt_number": 76
    },
    {
     "cell_type": "code",
     "collapsed": false,
     "input": [
      "### Put it all together!\n",
      "number_list = [element for element in out['number'].tolist() if len(element) > 0]\n",
      "all_data = make_table(number_list)"
     ],
     "language": "python",
     "metadata": {},
     "outputs": [
      {
       "output_type": "stream",
       "stream": "stdout",
       "text": [
        "RR 6, HAGERSVILLE, ON\n",
        "PO BOX 5000, OHSWEKEN, ON"
       ]
      },
      {
       "output_type": "stream",
       "stream": "stdout",
       "text": [
        "\n",
        "RR 5, WIARTON, ON"
       ]
      },
      {
       "output_type": "stream",
       "stream": "stdout",
       "text": [
        "\n",
        "RR 1, SOUTHAMPTON, ON"
       ]
      },
      {
       "output_type": "stream",
       "stream": "stdout",
       "text": [
        "\n",
        "PO BOX 414, MORSON, ON"
       ]
      },
      {
       "output_type": "stream",
       "stream": "stdout",
       "text": [
        "\n",
        "PO BOX 335, MORSON, ON"
       ]
      },
      {
       "output_type": "stream",
       "stream": "stdout",
       "text": [
        "\n",
        "RR 2 RMB 2027, FORT FRANCES, ON"
       ]
      },
      {
       "output_type": "stream",
       "stream": "stdout",
       "text": [
        "\n",
        "PO BOX 640, FORT FRANCES, ON"
       ]
      },
      {
       "output_type": "stream",
       "stream": "stdout",
       "text": [
        "\n",
        "PO BOX 15, RR 1, DEVLIN, ON"
       ]
      },
      {
       "output_type": "stream",
       "stream": "stdout",
       "text": [
        "\n",
        "PO BOX 68, FORT FRANCES, ON"
       ]
      },
      {
       "output_type": "stream",
       "stream": "stdout",
       "text": [
        "\n",
        "PO BOX 450, EMO, ON"
       ]
      },
      {
       "output_type": "stream",
       "stream": "stdout",
       "text": [
        "\n",
        "PO BOX 160, NESTOR FALLS, ON"
       ]
      },
      {
       "output_type": "stream",
       "stream": "stdout",
       "text": [
        "\n",
        "PO BOX 124, MINE CENTRE, ON"
       ]
      },
      {
       "output_type": "stream",
       "stream": "stdout",
       "text": [
        "\n",
        "PO BOX 609, FORT FRANCES, ON"
       ]
      },
      {
       "output_type": "stream",
       "stream": "stdout",
       "text": [
        "\n",
        "PO BOX 260, BALA, ON"
       ]
      },
      {
       "output_type": "stream",
       "stream": "stdout",
       "text": [
        "\n",
        "PO BOX 119, MACTIER, ON"
       ]
      },
      {
       "output_type": "stream",
       "stream": "stdout",
       "text": [
        "\n",
        "PO BOX 250, PARRY SOUND, ON"
       ]
      },
      {
       "output_type": "stream",
       "stream": "stdout",
       "text": [
        "\n",
        "RR1, 2 VILLAGE ROAD, NOBEL, ON"
       ]
      },
      {
       "output_type": "stream",
       "stream": "stdout",
       "text": [
        "\n",
        "RR 2, PO BOX 13, SUTTON WEST, ON"
       ]
      },
      {
       "output_type": "stream",
       "stream": "stdout",
       "text": [
        "\n",
        "200 - 5884 RAMA ROAD, RAMA, ON"
       ]
      },
      {
       "output_type": "stream",
       "stream": "stdout",
       "text": [
        "\n",
        "22521 ISLAND ROAD, PORT PERRY, ON"
       ]
      },
      {
       "output_type": "stream",
       "stream": "stdout",
       "text": [
        "\n",
        "GENERAL DELIVERY, CEDAR POINT, ON"
       ]
      },
      {
       "output_type": "stream",
       "stream": "stdout",
       "text": [
        "\n",
        "PO BOX 1, FORT ALBANY, ON"
       ]
      },
      {
       "output_type": "stream",
       "stream": "stdout",
       "text": [
        "\n",
        "PO BOX 248, ATTAWAPISKAT, ON"
       ]
      },
      {
       "output_type": "stream",
       "stream": "stdout",
       "text": [
        "\n",
        "PO BOX 190, MOOSE FACTORY, ON"
       ]
      },
      {
       "output_type": "stream",
       "stream": "stdout",
       "text": [
        "\n",
        "PO BOX 3310, RR 3, COCHRANE, ON"
       ]
      },
      {
       "output_type": "stream",
       "stream": "stdout",
       "text": [
        "\n",
        "PO BOX 1, PEAWANUCK, ON"
       ]
      },
      {
       "output_type": "stream",
       "stream": "stdout",
       "text": [
        "\n",
        "22 BAND OFFICE RD., DALLES, ON"
       ]
      },
      {
       "output_type": "stream",
       "stream": "stdout",
       "text": [
        "\n",
        "PO BOX 1001, MIGISI SAHGAIGAN, ON"
       ]
      },
      {
       "output_type": "stream",
       "stream": "stdout",
       "text": [
        "\n",
        "GENERAL DELIVERY, GRASSY NARROWS, ON"
       ]
      },
      {
       "output_type": "stream",
       "stream": "stdout",
       "text": [
        "\n",
        "GENERAL DELIVERY, WHITEDOG, ON"
       ]
      },
      {
       "output_type": "stream",
       "stream": "stdout",
       "text": [
        "\n",
        "BOX 1490, KENORA, ON"
       ]
      },
      {
       "output_type": "stream",
       "stream": "stdout",
       "text": [
        "\n",
        "PO BOX 267, SIOUX NARROWS, ON"
       ]
      },
      {
       "output_type": "stream",
       "stream": "stdout",
       "text": [
        "\n",
        "PO BOX 1850, KENORA, ON"
       ]
      },
      {
       "output_type": "stream",
       "stream": "stdout",
       "text": [
        "\n",
        "GENERAL DELIVERY, KEJICK, ON"
       ]
      },
      {
       "output_type": "stream",
       "stream": "stdout",
       "text": [
        "\n",
        "GENERAL DELIVERY, KEJICK, ON"
       ]
      },
      {
       "output_type": "stream",
       "stream": "stdout",
       "text": [
        "\n",
        "PO BOX 418, EAR FALLS, ON"
       ]
      },
      {
       "output_type": "stream",
       "stream": "stdout",
       "text": [
        "\n",
        "RR 1, SITE 115, PO BOX 300, DRYDEN, ON"
       ]
      },
      {
       "output_type": "stream",
       "stream": "stdout",
       "text": [
        "\n",
        "1800 PAWITIK STREET, PAWITIK, ON"
       ]
      },
      {
       "output_type": "stream",
       "stream": "stdout",
       "text": [
        "\n",
        "PO BOX 579, CORNWALL, ON"
       ]
      },
      {
       "output_type": "stream",
       "stream": "stdout",
       "text": [
        "\n",
        "PO BOX 46, ROSENEATH, ON"
       ]
      },
      {
       "output_type": "stream",
       "stream": "stdout",
       "text": [
        "\n",
        "GENERAL DELIVERY, CURVE LAKE, ON"
       ]
      },
      {
       "output_type": "stream",
       "stream": "stdout",
       "text": [
        "\n",
        "RR 2, KEENE, ON"
       ]
      },
      {
       "output_type": "stream",
       "stream": "stdout",
       "text": [
        "\n",
        "PO BOX 100, GOLDEN LAKE, ON"
       ]
      },
      {
       "output_type": "stream",
       "stream": "stdout",
       "text": [
        "\n",
        "RR 1, DESERONTO, ON"
       ]
      },
      {
       "output_type": "stream",
       "stream": "stdout",
       "text": [
        "\n",
        "14 ORANGE STREET, LEAMINGTON, ON"
       ]
      },
      {
       "output_type": "stream",
       "stream": "stdout",
       "text": [
        "\n",
        "RR 1, MUNCEY, ON"
       ]
      },
      {
       "output_type": "stream",
       "stream": "stdout",
       "text": [
        "\n",
        "RR 3, THAMESVILLE, ON"
       ]
      },
      {
       "output_type": "stream",
       "stream": "stdout",
       "text": [
        "\n",
        "RR 1, MUNCEY, ON"
       ]
      },
      {
       "output_type": "stream",
       "stream": "stdout",
       "text": [
        "\n",
        "RR 3, WALLACEBURG, ON"
       ]
      },
      {
       "output_type": "stream",
       "stream": "stdout",
       "text": [
        "\n",
        "6247 INDIAN LANE, KETTLE AND STONY POINT FIRST NATION, ON"
       ]
      },
      {
       "output_type": "stream",
       "stream": "stdout",
       "text": [
        "\n",
        "978 TASHMOO AVENUE, SARNIA, ON"
       ]
      },
      {
       "output_type": "stream",
       "stream": "stdout",
       "text": [
        "\n",
        "36 SAGON, ZHIIBAAHAASING, ON"
       ]
      },
      {
       "output_type": "stream",
       "stream": "stdout",
       "text": [
        "\n",
        "Administration Building, 10 HWY 529, BRITT, ON"
       ]
      },
      {
       "output_type": "stream",
       "stream": "stdout",
       "text": [
        "\n",
        "PO BOX 112, WIKWEMIKONG, ON"
       ]
      },
      {
       "output_type": "stream",
       "stream": "stdout",
       "text": [
        "\n",
        "PO BOX 101, SHEGUIANDAH, ON"
       ]
      },
      {
       "output_type": "stream",
       "stream": "stdout",
       "text": [
        "\n",
        "PO BOX 1, SHESHEGWANING, ON"
       ]
      },
      {
       "output_type": "stream",
       "stream": "stdout",
       "text": [
        "\n",
        "PO BOX 610, MASSEY, ON"
       ]
      },
      {
       "output_type": "stream",
       "stream": "stdout",
       "text": [
        "\n",
        "RR 1, COMP 21, LITTLE CURRENT, ON"
       ]
      },
      {
       "output_type": "stream",
       "stream": "stdout",
       "text": [
        "\n",
        "PO BOX 333, 53 HWY 551, M'CHIGEENG, ON"
       ]
      },
      {
       "output_type": "stream",
       "stream": "stdout",
       "text": [
        "\n",
        "GENERAL DELIVERY, CALSTOCK, ON"
       ]
      },
      {
       "output_type": "stream",
       "stream": "stdout",
       "text": [
        "\n",
        "PO BOX 298, FORT HOPE, ON"
       ]
      },
      {
       "output_type": "stream",
       "stream": "stdout",
       "text": [
        "\n",
        "PO BOX 609, LONGLAC, ON"
       ]
      },
      {
       "output_type": "stream",
       "stream": "stdout",
       "text": [
        "\n",
        "PO BOX 89, LONGLAC, ON"
       ]
      },
      {
       "output_type": "stream",
       "stream": "stdout",
       "text": [
        "\n",
        "GENERAL DELIVERY, OGOKI POST, ON"
       ]
      },
      {
       "output_type": "stream",
       "stream": "stdout",
       "text": [
        "\n",
        "90 ANEMKI DRIVE, SUITE 200, THUNDER BAY, ON"
       ]
      },
      {
       "output_type": "stream",
       "stream": "stdout",
       "text": [
        "\n",
        "1186 MEMORIAL AVENUE, P.O. BOX 29100 MCINTYRE CENTRE, THUNDER BAY, ON"
       ]
      },
      {
       "output_type": "stream",
       "stream": "stdout",
       "text": [
        "\n",
        "1100 MEMORIAL AVENUE, SUITE 328, THUNDER BAY, ON"
       ]
      },
      {
       "output_type": "stream",
       "stream": "stdout",
       "text": [
        "\n",
        "PO BOX 68, ARMSTRONG, ON"
       ]
      },
      {
       "output_type": "stream",
       "stream": "stdout",
       "text": [
        "\n",
        "10 CENTRAL PLACE, PAYS PLAT, ON"
       ]
      },
      {
       "output_type": "stream",
       "stream": "stdout",
       "text": [
        "\n",
        "PO BOX 193, HERON BAY, ON"
       ]
      },
      {
       "output_type": "stream",
       "stream": "stdout",
       "text": [
        "\n",
        "PO BOX 1030, NIPIGON, ON"
       ]
      },
      {
       "output_type": "stream",
       "stream": "stdout",
       "text": [
        "\n",
        "PO BOX 120, BEARDMORE, ON"
       ]
      },
      {
       "output_type": "stream",
       "stream": "stdout",
       "text": [
        "\n",
        "PO BOX 717, MOBERT, ON"
       ]
      },
      {
       "output_type": "stream",
       "stream": "stdout",
       "text": [
        "\n",
        "146 COURT STREET SOUTH, THUNDER BAY, ON"
       ]
      },
      {
       "output_type": "stream",
       "stream": "stdout",
       "text": [
        "\n",
        "GENERAL DELIVERY, MACDIARMID, ON"
       ]
      },
      {
       "output_type": "stream",
       "stream": "stdout",
       "text": [
        "\n",
        "236 FRONTENAC STREET, SAULT STE MARIE, ON"
       ]
      },
      {
       "output_type": "stream",
       "stream": "stdout",
       "text": [
        "\n",
        "7 SHINGWAUK STREET, RR 4, GARDEN RIVER, ON"
       ]
      },
      {
       "output_type": "stream",
       "stream": "stdout",
       "text": [
        "\n",
        "PO BOX 1299, BLIND RIVER, ON"
       ]
      },
      {
       "output_type": "stream",
       "stream": "stdout",
       "text": [
        "\n",
        "PO BOX 14, 195 VILLAGE ROAD, CUTLER, ON"
       ]
      },
      {
       "output_type": "stream",
       "stream": "stdout",
       "text": [
        "\n",
        "40 SUGARBUSH ROAD, THESSALON, ON"
       ]
      },
      {
       "output_type": "stream",
       "stream": "stdout",
       "text": [
        "\n",
        "GENERAL DELIVERY, OSNABURGH, ON"
       ]
      },
      {
       "output_type": "stream",
       "stream": "stdout",
       "text": [
        "\n",
        "GENERAL DELIVERY, WEAGAMOW LAKE, ON"
       ]
      },
      {
       "output_type": "stream",
       "stream": "stdout",
       "text": [
        "\n",
        "PO BOX 100, HUDSON, ON"
       ]
      },
      {
       "output_type": "stream",
       "stream": "stdout",
       "text": [
        "\n",
        "P.O. Box 2, ANGLING LAKE, ON"
       ]
      },
      {
       "output_type": "stream",
       "stream": "stdout",
       "text": [
        "\n",
        "P.O. Box 25, BEARSKIN LAKE, ON"
       ]
      },
      {
       "output_type": "stream",
       "stream": "stdout",
       "text": [
        "\n",
        "PO BOX 323, PIKANGIKUM, ON"
       ]
      },
      {
       "output_type": "stream",
       "stream": "stdout",
       "text": [
        "\n",
        "PO BOX 329, BIG TROUT LAKE, ON"
       ]
      },
      {
       "output_type": "stream",
       "stream": "stdout",
       "text": [
        "\n",
        "PO BOX 124, KASABONIKA LAKE, ON"
       ]
      },
      {
       "output_type": "stream",
       "stream": "stdout",
       "text": [
        "\n",
        "PO BOX 12, SANDY LAKE, ON"
       ]
      },
      {
       "output_type": "stream",
       "stream": "stdout",
       "text": [
        "\n",
        "PO BOX 57, KINGFISHER LAKE, ON"
       ]
      },
      {
       "output_type": "stream",
       "stream": "stdout",
       "text": [
        "\n",
        "PO BOX 140, MUSKRAT DAM, ON"
       ]
      },
      {
       "output_type": "stream",
       "stream": "stdout",
       "text": [
        "\n",
        "PO BOX 51, SACHIGO LAKE, ON"
       ]
      },
      {
       "output_type": "stream",
       "stream": "stdout",
       "text": [
        "\n",
        "GENERAL DELIVERY, FORT SEVERN, ON"
       ]
      },
      {
       "output_type": "stream",
       "stream": "stdout",
       "text": [
        "\n",
        "PO BOX 81, CAT LAKE, ON"
       ]
      },
      {
       "output_type": "stream",
       "stream": "stdout",
       "text": [
        "\n",
        "PO BOX 105, WUNNUMIN LAKE, ON"
       ]
      },
      {
       "output_type": "stream",
       "stream": "stdout",
       "text": [
        "\n",
        "940A MAIN STREET, DOKIS FIRST NATION, ON"
       ]
      },
      {
       "output_type": "stream",
       "stream": "stdout",
       "text": [
        "\n",
        "PO BOX 160, MATACHEWAN, ON"
       ]
      },
      {
       "output_type": "stream",
       "stream": "stdout",
       "text": [
        "\n",
        "36 SEMO ROAD, GARDEN VILLAGE, ON"
       ]
      },
      {
       "output_type": "stream",
       "stream": "stdout",
       "text": [
        "\n",
        "PO BOX 400, CHAPLEAU, ON"
       ]
      },
      {
       "output_type": "stream",
       "stream": "stdout",
       "text": [
        "\n",
        "GENERAL DELIVERY, BEAR ISLAND, ON"
       ]
      },
      {
       "output_type": "stream",
       "stream": "stdout",
       "text": [
        "\n",
        "174B HWY 17B, GARDEN RIVER, ON"
       ]
      },
      {
       "output_type": "stream",
       "stream": "stdout",
       "text": [
        "\n",
        "25 RESERVE ROAD, NAUGHTON, ON"
       ]
      },
      {
       "output_type": "stream",
       "stream": "stdout",
       "text": [
        "\n",
        "PO BOX 1, SITE 8, RR 1, WAWA, ON"
       ]
      },
      {
       "output_type": "stream",
       "stream": "stdout",
       "text": [
        "\n",
        "PO BOX 99, GOGAMA, ON"
       ]
      },
      {
       "output_type": "stream",
       "stream": "stdout",
       "text": [
        "\n",
        "PO BOX 1027, NIPIGON, ON"
       ]
      },
      {
       "output_type": "stream",
       "stream": "stdout",
       "text": [
        "\n",
        "PO BOX 1178, CHAPLEAU, ON"
       ]
      },
      {
       "output_type": "stream",
       "stream": "stdout",
       "text": [
        "\n",
        "522 HIGHWAY 129, PO BOX 279, CHAPLEAU, ON"
       ]
      },
      {
       "output_type": "stream",
       "stream": "stdout",
       "text": [
        "\n",
        "PO BOX A, BIRCH ISLAND, ON"
       ]
      },
      {
       "output_type": "stream",
       "stream": "stdout",
       "text": [
        "\n",
        "295 PICKEREL RIVER RD, PICKEREL, ON"
       ]
      },
      {
       "output_type": "stream",
       "stream": "stdout",
       "text": [
        "\n",
        "259 Taighwenini Trail Road, CAPREOL, ON"
       ]
      },
      {
       "output_type": "stream",
       "stream": "stdout",
       "text": [
        "\n",
        "RR 3, MATHESON, ON"
       ]
      },
      {
       "output_type": "stream",
       "stream": "stdout",
       "text": [
        "\n",
        "PO BOX 477, SIOUX LOOKOUT, ON"
       ]
      },
      {
       "output_type": "stream",
       "stream": "stdout",
       "text": [
        "\n",
        "PO BOX 625, KEEWATIN, ON"
       ]
      },
      {
       "output_type": "stream",
       "stream": "stdout",
       "text": [
        "\n",
        "PO BOX 1, POPLAR HILL, ON"
       ]
      },
      {
       "output_type": "stream",
       "stream": "stdout",
       "text": [
        "\n",
        "GENERAL DELIVERY, DEER LAKE, ON"
       ]
      },
      {
       "output_type": "stream",
       "stream": "stdout",
       "text": [
        "\n",
        "GENERAL DELIVERY, NORTH SPIRIT LAKE, ON"
       ]
      },
      {
       "output_type": "stream",
       "stream": "stdout",
       "text": [
        "\n",
        "PO BOX 105, LANSDOWNE HOUSE, ON"
       ]
      },
      {
       "output_type": "stream",
       "stream": "stdout",
       "text": [
        "\n",
        "PO BOX 268, WEBEQUIE, ON"
       ]
      },
      {
       "output_type": "stream",
       "stream": "stdout",
       "text": [
        "\n",
        "GENERAL DELIVERY, SUMMER BEAVER, ON"
       ]
      },
      {
       "output_type": "stream",
       "stream": "stdout",
       "text": [
        "\n",
        "PO BOX 10, AROLAND, ON"
       ]
      },
      {
       "output_type": "stream",
       "stream": "stdout",
       "text": [
        "\n",
        "GENERAL DELIVERY, SAVANT LAKE, ON"
       ]
      },
      {
       "output_type": "stream",
       "stream": "stdout",
       "text": [
        "\n",
        "48 LAKEVIEW DR, SLATE FALLS, ON"
       ]
      },
      {
       "output_type": "stream",
       "stream": "stdout",
       "text": [
        "\n",
        "GENERAL DELIVERY, KEEWAYWIN, ON"
       ]
      },
      {
       "output_type": "stream",
       "stream": "stdout",
       "text": [
        "\n",
        "PO BOX 321, RED LAKE, ON"
       ]
      },
      {
       "output_type": "stream",
       "stream": "stdout",
       "text": [
        "\n"
       ]
      }
     ],
     "prompt_number": 83
    },
    {
     "cell_type": "code",
     "collapsed": false,
     "input": [
      "final = pd.merge(all_data, out, how='inner', on='number')\n",
      "final.to_csv(\"FN SES data.csv\", na_rep='NA', encoding='utf-8')"
     ],
     "language": "python",
     "metadata": {},
     "outputs": [],
     "prompt_number": 84
    },
    {
     "cell_type": "code",
     "collapsed": false,
     "input": [
      "b = '1,2,3,4'\n",
      "b.split(',')[-3:]"
     ],
     "language": "python",
     "metadata": {},
     "outputs": [
      {
       "metadata": {},
       "output_type": "pyout",
       "prompt_number": 81,
       "text": [
        "['2', '3', '4']"
       ]
      }
     ],
     "prompt_number": 81
    },
    {
     "cell_type": "code",
     "collapsed": false,
     "input": [
      "len(out['number'].tolist())"
     ],
     "language": "python",
     "metadata": {},
     "outputs": []
    },
    {
     "cell_type": "code",
     "collapsed": false,
     "input": [],
     "language": "python",
     "metadata": {},
     "outputs": []
    },
    {
     "cell_type": "code",
     "collapsed": false,
     "input": [],
     "language": "python",
     "metadata": {},
     "outputs": []
    },
    {
     "cell_type": "code",
     "collapsed": false,
     "input": [],
     "language": "python",
     "metadata": {},
     "outputs": []
    }
   ],
   "metadata": {}
  }
 ]
}
